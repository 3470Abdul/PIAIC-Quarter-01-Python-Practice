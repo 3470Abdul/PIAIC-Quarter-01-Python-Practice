{
 "cells": [
  {
   "cell_type": "markdown",
   "metadata": {},
   "source": [
    "# Python Programming Assignment-01\n",
    "- Name : Abdul Wahab\n",
    "- Roll No : AIC033344\n",
    "- Teacher: Engg. Muhammad Qasim\n",
    "- Campus: Sindh Boys Scout (6:45 pm - 9:45 pm Sunday)"
   ]
  },
  {
   "cell_type": "markdown",
   "metadata": {},
   "source": [
    "# 1. Calculate Area of a Cirle"
   ]
  },
  {
   "cell_type": "code",
   "execution_count": 1,
   "metadata": {},
   "outputs": [
    {
     "name": "stdout",
     "output_type": "stream",
     "text": [
      "Input Radius : 0.5\n",
      "Area of Circle with radius  0.5 is  0.7853981633974483\n"
     ]
    }
   ],
   "source": [
    "import math\n",
    "radius = float(input(\"Input Radius : \"))\n",
    "area = math.pi * pow(radius,2)\n",
    "print(\"Area of Circle with radius \",radius,\"is \",area,)"
   ]
  },
  {
   "cell_type": "markdown",
   "metadata": {},
   "source": [
    "# 2. Check Number either positive, negative or zero"
   ]
  },
  {
   "cell_type": "code",
   "execution_count": 2,
   "metadata": {},
   "outputs": [
    {
     "name": "stdout",
     "output_type": "stream",
     "text": [
      "Enter Number : -1\n",
      "Negative Number Entered\n"
     ]
    }
   ],
   "source": [
    "number = int(input(\"Enter Number : \"))\n",
    "if number>0:\n",
    "    print(\"Positive Number Entered\")\n",
    "elif number<0:\n",
    "    print(\"Negative Number Entered\")\n",
    "else:\n",
    "    print(\"Zero Entered\")"
   ]
  },
  {
   "cell_type": "code",
   "execution_count": 3,
   "metadata": {},
   "outputs": [
    {
     "name": "stdout",
     "output_type": "stream",
     "text": [
      "Enter Number : 3\n",
      "Positive Number Entered\n"
     ]
    }
   ],
   "source": [
    "number = int(input(\"Enter Number : \"))\n",
    "if number>0:\n",
    "    print(\"Positive Number Entered\")\n",
    "elif number<0:\n",
    "    print(\"Negative Number Entered\")\n",
    "else:\n",
    "    print(\"Zero Entered\")"
   ]
  },
  {
   "cell_type": "code",
   "execution_count": 4,
   "metadata": {},
   "outputs": [
    {
     "name": "stdout",
     "output_type": "stream",
     "text": [
      "Enter Number : 0\n",
      "Zero Entered\n"
     ]
    }
   ],
   "source": [
    "number = int(input(\"Enter Number : \"))\n",
    "if number>0:\n",
    "    print(\"Positive Number Entered\")\n",
    "elif number<0:\n",
    "    print(\"Negative Number Entered\")\n",
    "else:\n",
    "    print(\"Zero Entered\")"
   ]
  },
  {
   "cell_type": "markdown",
   "metadata": {},
   "source": [
    "# 3. Divisibility Check of two numbers"
   ]
  },
  {
   "cell_type": "code",
   "execution_count": 5,
   "metadata": {},
   "outputs": [
    {
     "name": "stdout",
     "output_type": "stream",
     "text": [
      "Enter numerator : 4\n",
      "Enter denominator2\n",
      "Number 4 is Completely divisible by 2\n"
     ]
    }
   ],
   "source": [
    "numerator = int(input(\"Enter numerator : \"))\n",
    "denominator = int(input(\"Enter denominator\"))\n",
    "if numerator%denominator == 0:\n",
    "    print(\"Number\",numerator,\"is Completely divisible by\",denominator)\n",
    "else:\n",
    "    print(\"Number\",numerator,\"is not Completely divisible by\",denominator)\n"
   ]
  },
  {
   "cell_type": "code",
   "execution_count": 6,
   "metadata": {},
   "outputs": [
    {
     "name": "stdout",
     "output_type": "stream",
     "text": [
      "Enter numerator : 7\n",
      "Enter denominator4\n",
      "Number 7 is not Completely divisible by 4\n"
     ]
    }
   ],
   "source": [
    "numerator = int(input(\"Enter numerator : \"))\n",
    "denominator = int(input(\"Enter denominator\"))\n",
    "if numerator%denominator == 0:\n",
    "    print(\"Number\",numerator,\"is Completely divisible by\",denominator)\n",
    "else:\n",
    "    print(\"Number\",numerator,\"is not Completely divisible by\",denominator)"
   ]
  },
  {
   "cell_type": "markdown",
   "metadata": {},
   "source": [
    "# 4. Days Calculator"
   ]
  },
  {
   "cell_type": "code",
   "execution_count": 7,
   "metadata": {},
   "outputs": [
    {
     "name": "stdout",
     "output_type": "stream",
     "text": [
      "Enter a date in (dd/mm/yy) format: 12/12/2018\n",
      "Enter a date in (dd/mm/yy) format: 16/12/2018\n",
      "There are 4 days between 12/12/2018 and 16/12/2018\n"
     ]
    }
   ],
   "source": [
    "d1 = input(\"Enter a date in (dd/mm/yy) format: \")\n",
    "d2 = input(\"Enter a date in (dd/mm/yy) format: \")\n",
    "dd1 = int(d1[0:2])\n",
    "mm1 = int(d1[3:5])\n",
    "yy1 = int(d1[6:8])\n",
    "dd2 = int(d2[0:2])\n",
    "mm2 = int(d2[3:5])\n",
    "yy2 = int(d2[6:8])\n",
    "days = abs((dd1+(mm1*30)+(yy1*365))-(dd2+(mm2*30)+(yy2*365)))\n",
    "print(\"There are\",days,\"days between\",d1,\"and\",d2)"
   ]
  },
  {
   "cell_type": "markdown",
   "metadata": {},
   "source": [
    "# 5. Calculate Volume of a sphere"
   ]
  },
  {
   "cell_type": "code",
   "execution_count": 8,
   "metadata": {},
   "outputs": [
    {
     "name": "stdout",
     "output_type": "stream",
     "text": [
      "Enter Radius of Sphere : 1\n",
      "Volume of the Sphere with Radius 1.0 is 4.1887902047863905\n"
     ]
    }
   ],
   "source": [
    "import math\n",
    "radius = float(input(\"Enter Radius of Sphere : \"))\n",
    "volume = math.pi * pow(4/3,radius**2)\n",
    "print(\"Volume of the Sphere with Radius\",radius,\"is\",volume)"
   ]
  },
  {
   "cell_type": "markdown",
   "metadata": {},
   "source": [
    "# 6. Copy string n times"
   ]
  },
  {
   "cell_type": "code",
   "execution_count": 9,
   "metadata": {},
   "outputs": [
    {
     "name": "stdout",
     "output_type": "stream",
     "text": [
      "Enter String : Hi\n",
      "How many copies of String you need : 4\n",
      "4 Copies of Hi are HiHiHiHi\n"
     ]
    }
   ],
   "source": [
    "string = str(input(\"Enter String : \"))\n",
    "copies = int(input(\"How many copies of String you need : \"))\n",
    "result = string * copies\n",
    "print(copies,\"Copies of\",string,\"are\",result)"
   ]
  },
  {
   "cell_type": "markdown",
   "metadata": {},
   "source": [
    "# 7. Check if number is Even or Odd"
   ]
  },
  {
   "cell_type": "code",
   "execution_count": 10,
   "metadata": {},
   "outputs": [
    {
     "name": "stdout",
     "output_type": "stream",
     "text": [
      "Enter Number : 4\n",
      "4 is Even\n"
     ]
    }
   ],
   "source": [
    "number = int(input(\"Enter Number : \"))\n",
    "if number%2 == 0:\n",
    "    print(number,\"is Even\")\n",
    "else: \n",
    "    print(number,\"is Odd\")"
   ]
  },
  {
   "cell_type": "code",
   "execution_count": 11,
   "metadata": {},
   "outputs": [
    {
     "name": "stdout",
     "output_type": "stream",
     "text": [
      "Enter Number : 9\n",
      "9 is Odd\n"
     ]
    }
   ],
   "source": [
    "number = int(input(\"Enter Number : \"))\n",
    "if number%2 == 0:\n",
    "    print(number,\"is Even\")\n",
    "else: \n",
    "    print(number,\"is Odd\")"
   ]
  },
  {
   "cell_type": "markdown",
   "metadata": {},
   "source": [
    "# 8. Vowel Tester"
   ]
  },
  {
   "cell_type": "code",
   "execution_count": 12,
   "metadata": {},
   "outputs": [
    {
     "name": "stdout",
     "output_type": "stream",
     "text": [
      "Enter a character : A\n",
      "Letter A is Vowel\n"
     ]
    }
   ],
   "source": [
    "char = str(input(\"Enter a character : \"))\n",
    "if char == 'A' or char == 'a' or char == 'E' or char == 'e' or char == 'I' or char == 'i' or char == 'O' or char == 'o' or char == 'U' or char == 'u':\n",
    "    print(\"Letter\",char,\"is Vowel\")\n",
    "else:\n",
    "    print(\"Letter\",char,\"is not Vowel\")"
   ]
  },
  {
   "cell_type": "code",
   "execution_count": 13,
   "metadata": {},
   "outputs": [
    {
     "name": "stdout",
     "output_type": "stream",
     "text": [
      "Enter a character : e\n",
      "Letter e is Vowel\n"
     ]
    }
   ],
   "source": [
    "char = str(input(\"Enter a character : \"))\n",
    "if char == 'A' or char == 'a' or char == 'E' or char == 'e' or char == 'I' or char == 'i' or char == 'O' or char == 'o' or char == 'U' or char == 'u':\n",
    "    print(\"Letter\",char,\"is Vowel\")\n",
    "else:\n",
    "    print(\"Letter\",char,\"is not Vowel\")"
   ]
  },
  {
   "cell_type": "code",
   "execution_count": 14,
   "metadata": {},
   "outputs": [
    {
     "name": "stdout",
     "output_type": "stream",
     "text": [
      "Enter a character : N\n",
      "Letter N is not Vowel\n"
     ]
    }
   ],
   "source": [
    "char = str(input(\"Enter a character : \"))\n",
    "if char == 'A' or char == 'a' or char == 'E' or char == 'e' or char == 'I' or char == 'i' or char == 'O' or char == 'o' or char == 'U' or char == 'u':\n",
    "    print(\"Letter\",char,\"is Vowel\")\n",
    "else:\n",
    "    print(\"Letter\",char,\"is not Vowel\")"
   ]
  },
  {
   "cell_type": "markdown",
   "metadata": {},
   "source": [
    "# 9. Triangle area"
   ]
  },
  {
   "cell_type": "code",
   "execution_count": 15,
   "metadata": {},
   "outputs": [
    {
     "name": "stdout",
     "output_type": "stream",
     "text": [
      "Enter magnitude of Triangle base : 4\n",
      "Enter Magnitude of Triangle Height : 4\n",
      "Area of a Triangle with Height 4 and Base 4 is 8.0\n"
     ]
    }
   ],
   "source": [
    "base = int(input(\"Enter magnitude of Triangle base : \"))\n",
    "height = int(input(\"Enter Magnitude of Triangle Height : \"))\n",
    "area = 1/2 * (base * height)\n",
    "print(\"Area of a Triangle with Height\",height,\"and Base\",base,\"is\",area)"
   ]
  },
  {
   "cell_type": "markdown",
   "metadata": {},
   "source": [
    "# 10. Calculate Interest"
   ]
  },
  {
   "cell_type": "code",
   "execution_count": 16,
   "metadata": {},
   "outputs": [
    {
     "name": "stdout",
     "output_type": "stream",
     "text": [
      "Please Enter Principal Amount: 10000\n",
      "Please enter Rate of Interest in %: 0.1\n",
      "Enter number of years of investment: 5\n",
      "After  5  years your Principal amount  10000  over an interest rate of  0.1  will be  10050.100100050004\n"
     ]
    }
   ],
   "source": [
    "a = int(input(\"Please Enter Principal Amount: \"))\n",
    "i = float(input(\"Please enter Rate of Interest in %: \"))\n",
    "y = int(input(\"Enter number of years of investment: \"))\n",
    "z = 1 + (i/100)\n",
    "x = pow(z,y) * a\n",
    "print(\"After \",y,\" years your Principal amount \",a,\" over an interest rate of \",i,\" will be \",x)"
   ]
  },
  {
   "cell_type": "markdown",
   "metadata": {},
   "source": [
    "# 11. Euclidean distance"
   ]
  },
  {
   "cell_type": "code",
   "execution_count": 17,
   "metadata": {},
   "outputs": [
    {
     "name": "stdout",
     "output_type": "stream",
     "text": [
      "Enter C-ordinate for x1: 2\n",
      "Enter C-ordinate for x2: 4\n",
      "Enter C-ordinate for y1: 4\n",
      "Enter C-ordinate for y2: 4\n",
      "Distance between points ( 2 , 4 ) and ( 4 , 4 ) is  2.0\n"
     ]
    }
   ],
   "source": [
    "import math\n",
    "x1 = int(input(\"Enter C-ordinate for x1: \"))\n",
    "x2 = int(input(\"Enter C-ordinate for x2: \"))\n",
    "y1 = int(input(\"Enter C-ordinate for y1: \"))\n",
    "y2 = int(input(\"Enter C-ordinate for y2: \"))\n",
    "\n",
    "x = abs(x1 - x2)\n",
    "y = abs(y1 - y2)\n",
    "d = math.sqrt(pow(x,2) - pow(y,2))\n",
    "print(\"Distance between points (\",x1,\",\",x2,\") and (\",y1,\",\",y2,\") is \",d)"
   ]
  },
  {
   "cell_type": "markdown",
   "metadata": {},
   "source": [
    "# 12. Feet to Centimeter Converter"
   ]
  },
  {
   "cell_type": "code",
   "execution_count": 18,
   "metadata": {},
   "outputs": [
    {
     "name": "stdout",
     "output_type": "stream",
     "text": [
      "Enter Height in Feet: 5\n",
      "There are 152.4 Cm in  5 ft\n"
     ]
    }
   ],
   "source": [
    "height = int(input(\"Enter Height in Feet: \"))\n",
    "centimeter = height * 30.48\n",
    "print(\"There are\",centimeter,\"Cm in \",height,\"ft\")"
   ]
  },
  {
   "cell_type": "markdown",
   "metadata": {},
   "source": [
    "# 13. BMI Calculator"
   ]
  },
  {
   "cell_type": "code",
   "execution_count": 19,
   "metadata": {},
   "outputs": [
    {
     "name": "stdout",
     "output_type": "stream",
     "text": [
      "Enter Height in Cm: 180\n",
      "Enter Weight in Kg: 75\n",
      "Your BMI is 23.148148148148145\n"
     ]
    }
   ],
   "source": [
    "hei = int(input(\"Enter Height in Cm: \"))\n",
    "height = (hei) / (100)\n",
    "weight = int(input(\"Enter Weight in Kg: \"))\n",
    "BMI = (weight) / (height**2)\n",
    "print(\"Your BMI is\",BMI)"
   ]
  },
  {
   "cell_type": "markdown",
   "metadata": {},
   "source": [
    "# 14. Sum of n Positive Integers"
   ]
  },
  {
   "cell_type": "code",
   "execution_count": 20,
   "metadata": {},
   "outputs": [
    {
     "name": "stdout",
     "output_type": "stream",
     "text": [
      "Enter value of n: 5\n",
      "Sum of n Positive integers till  5  is 15\n"
     ]
    }
   ],
   "source": [
    "n = int(input(\"Enter value of n: \"))\n",
    "s = 0\n",
    "for x in range(0,n + 1):\n",
    "    s = s + x\n",
    "print(\"Sum of n Positive integers till \",n,\" is\",s)"
   ]
  },
  {
   "cell_type": "markdown",
   "metadata": {},
   "source": [
    "# 15. Digits Sum of a Number"
   ]
  },
  {
   "cell_type": "code",
   "execution_count": 21,
   "metadata": {},
   "outputs": [
    {
     "name": "stdout",
     "output_type": "stream",
     "text": [
      "Enter a number:15\n",
      "The sum of 1 + 5 is 6\n"
     ]
    }
   ],
   "source": [
    "n = str(input(\"Enter a number:\")) \n",
    "x = 0\n",
    "for i in n :\n",
    "    x += int(i)\n",
    "print(\"The sum of\",' + '.join(map(str,n)),\"is\",x)"
   ]
  },
  {
   "cell_type": "code",
   "execution_count": 22,
   "metadata": {},
   "outputs": [
    {
     "name": "stdout",
     "output_type": "stream",
     "text": [
      "Enter a number:1234\n",
      "The sum of 1 + 2 + 3 + 4 is 10\n"
     ]
    }
   ],
   "source": [
    "n = str(input(\"Enter a number:\")) \n",
    "x = 0\n",
    "for i in n :\n",
    "    x += int(i)\n",
    "print(\"The sum of\",' + '.join(map(str,n)),\"is\",x)"
   ]
  },
  {
   "cell_type": "markdown",
   "metadata": {},
   "source": [
    "# 16. Decimal to Binary Converter"
   ]
  },
  {
   "cell_type": "code",
   "execution_count": 34,
   "metadata": {},
   "outputs": [
    {
     "name": "stdout",
     "output_type": "stream",
     "text": [
      "Enter a decimal number: 5\n",
      "Binary Representation of 5 is 101\n"
     ]
    }
   ],
   "source": [
    "number = int(input(\"Enter a decimal number: \"))\n",
    "result = bin(number)\n",
    "print(f\"Binary Representation of {number} is {result[2:]}\")"
   ]
  },
  {
   "cell_type": "code",
   "execution_count": 35,
   "metadata": {},
   "outputs": [
    {
     "name": "stdout",
     "output_type": "stream",
     "text": [
      "Enter a decimal number: 32\n",
      "Binary Representation of 32 is 100000\n"
     ]
    }
   ],
   "source": [
    "number = int(input(\"Enter a decimal number: \"))\n",
    "result = bin(number)\n",
    "print(f\"Binary Representation of {number} is {result[2:]}\")"
   ]
  },
  {
   "cell_type": "markdown",
   "metadata": {},
   "source": [
    "# 17. Binary to Decimal Converter"
   ]
  },
  {
   "cell_type": "code",
   "execution_count": 36,
   "metadata": {},
   "outputs": [
    {
     "name": "stdout",
     "output_type": "stream",
     "text": [
      "Enter a decimal number: 1101\n",
      "Decimal Representation of 1101 is 13\n"
     ]
    }
   ],
   "source": [
    "number = str(input(\"Enter a decimal number: \"))\n",
    "result = int(number,2)\n",
    "print(f\"Decimal Representation of {number} is {result}\")"
   ]
  },
  {
   "cell_type": "code",
   "execution_count": 37,
   "metadata": {},
   "outputs": [
    {
     "name": "stdout",
     "output_type": "stream",
     "text": [
      "Enter a decimal number: 1001\n",
      "Decimal Representation of 1001 is 9\n"
     ]
    }
   ],
   "source": [
    "number = str(input(\"Enter a decimal number: \"))\n",
    "result = int(number,2)\n",
    "print(f\"Decimal Representation of {number} is {result}\")"
   ]
  },
  {
   "cell_type": "markdown",
   "metadata": {},
   "source": [
    "# 18. Vowel and Consonants Counter"
   ]
  },
  {
   "cell_type": "code",
   "execution_count": 42,
   "metadata": {},
   "outputs": [
    {
     "name": "stdout",
     "output_type": "stream",
     "text": [
      "Enter text:QuickBrownFoxJumpsovertheDog\n",
      "vowels: 9\n",
      "Constant :19\n"
     ]
    }
   ],
   "source": [
    "text = str(input(\"Enter text:\")) \n",
    "vowel = 0\n",
    "constant = 0\n",
    "for char in text:\n",
    "    if char in \"aeiou\" :\n",
    "        vowel =vowel + 1        \n",
    "print(\"vowels: \" + str(vowel))\n",
    "for element in text:    \n",
    "    if element not in \"aeiouAEIOU\":\n",
    "            constant = constant + 1\n",
    "print(\"Constant :\" + str(constant))"
   ]
  },
  {
   "cell_type": "markdown",
   "metadata": {},
   "source": [
    "# 19. Palindrome tester"
   ]
  },
  {
   "cell_type": "code",
   "execution_count": 46,
   "metadata": {},
   "outputs": [
    {
     "name": "stdout",
     "output_type": "stream",
     "text": [
      "Enter text: AHA\n",
      "Text AHA is Palindrome\n"
     ]
    }
   ],
   "source": [
    "text = input(\"Enter text: \")\n",
    "r = text[::-1]\n",
    "if(text == r):\n",
    "    print(f\"Text {text} is Palindrome\")\n",
    "else:\n",
    "    print(f\"Text {text} is not a Palindrome\")"
   ]
  },
  {
   "cell_type": "code",
   "execution_count": 47,
   "metadata": {},
   "outputs": [
    {
     "name": "stdout",
     "output_type": "stream",
     "text": [
      "Enter text: Helllo\n",
      "Text Helllo is not a Palindrome\n"
     ]
    }
   ],
   "source": [
    "text = input(\"Enter text: \")\n",
    "r = text[::-1]\n",
    "if(text == r):\n",
    "    print(f\"Text {text} is Palindrome\")\n",
    "else:\n",
    "    print(f\"Text {text} is not a Palindrome\")"
   ]
  },
  {
   "cell_type": "markdown",
   "metadata": {},
   "source": [
    "# 20. Count Alphabets, Numbers and Special Characters"
   ]
  },
  {
   "cell_type": "code",
   "execution_count": 49,
   "metadata": {},
   "outputs": [
    {
     "name": "stdout",
     "output_type": "stream",
     "text": [
      "Enter text: Pytnon 3.2\n",
      "Numbers = 2 \n",
      "Alphabets = 6 \n",
      "Special characters = 1 \n",
      "Spaces = 1 \n"
     ]
    }
   ],
   "source": [
    "n = input(\"Enter text: \")\n",
    "num = alpha = spCh = space = 0\n",
    "for i in range(len(n)):\n",
    "    if (n[i].isalpha()):\n",
    "        alpha += 1  \n",
    "    elif (n[i].isdigit()):\n",
    "        num += 1\n",
    "    elif(n[i]== \" \"):\n",
    "        space += 1\n",
    "    else:\n",
    "        spCh +=1\n",
    "print(f\"Numbers = {num} \\nAlphabets = {alpha} \\nSpecial characters = {spCh} \\nSpaces = {space} \")"
   ]
  },
  {
   "cell_type": "markdown",
   "metadata": {},
   "source": [
    "# 21. Write a Python program to construct the following pattern"
   ]
  },
  {
   "cell_type": "code",
   "execution_count": 50,
   "metadata": {},
   "outputs": [
    {
     "name": "stdout",
     "output_type": "stream",
     "text": [
      "* \r\n",
      "* * \r\n",
      "* * * \r\n",
      "* * * * \r\n",
      "* * * * * \r\n",
      "* * * * \r\n",
      "* * * \r\n",
      "* * \r\n",
      "* \r\n",
      "\r\n"
     ]
    }
   ],
   "source": [
    "for i in range(0,5):\n",
    "    for j in range(0,i + 1):\n",
    "        print(\"*\" ,end=' ')\n",
    "    print(\"\\r\")\n",
    "for i in range(5,0,-1):\n",
    "    for j in range(0,i -1):\n",
    "        print(\"*\" ,end=' ')\n",
    "    print(\"\\r\")"
   ]
  },
  {
   "cell_type": "markdown",
   "metadata": {},
   "source": [
    "# 22. Write a Python program to construct the following pattern"
   ]
  },
  {
   "cell_type": "code",
   "execution_count": 52,
   "metadata": {},
   "outputs": [
    {
     "name": "stdout",
     "output_type": "stream",
     "text": [
      "1  \n",
      "1 2  \n",
      "1 2 3  \n",
      "1 2 3 4  \n",
      "1 2 3 4 5  \n",
      "1 2 3 4  \n",
      "1 2 3  \n",
      "1 2  \n",
      "1  \n",
      " \n"
     ]
    }
   ],
   "source": [
    "for i in range(1,6):\n",
    "    for j in range(1,i + 1):\n",
    "        print(j ,end=' ')\n",
    "    print(\" \")\n",
    "\n",
    "for i in range(6,1,-1):\n",
    "    for j in range(1,i -1):\n",
    "        print(j ,end=' ')\n",
    "    print(\" \")"
   ]
  },
  {
   "cell_type": "markdown",
   "metadata": {},
   "source": [
    "# 23. Write a Python program to construct the following pattern\n"
   ]
  },
  {
   "cell_type": "code",
   "execution_count": 53,
   "metadata": {},
   "outputs": [
    {
     "name": "stdout",
     "output_type": "stream",
     "text": [
      "1  \n",
      "2 2  \n",
      "3 3 3  \n",
      "4 4 4 4  \n",
      "5 5 5 5 5  \n",
      "6 6 6 6 6 6  \n",
      "7 7 7 7 7 7 7  \n",
      "8 8 8 8 8 8 8 8  \n",
      "9 9 9 9 9 9 9 9 9  \n"
     ]
    }
   ],
   "source": [
    "for i in range(1,10):\n",
    "    for j in range(0,i):\n",
    "        print(i ,end=' ')\n",
    "    print(\" \")"
   ]
  }
 ],
 "metadata": {
  "kernelspec": {
   "display_name": "Python 3",
   "language": "python",
   "name": "python3"
  },
  "language_info": {
   "codemirror_mode": {
    "name": "ipython",
    "version": 3
   },
   "file_extension": ".py",
   "mimetype": "text/x-python",
   "name": "python",
   "nbconvert_exporter": "python",
   "pygments_lexer": "ipython3",
   "version": "3.7.3"
  }
 },
 "nbformat": 4,
 "nbformat_minor": 2
}
